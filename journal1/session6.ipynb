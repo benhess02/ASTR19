{
 "cells": [
  {
   "cell_type": "markdown",
   "metadata": {},
   "source": [
    "First, import the math library."
   ]
  },
  {
   "cell_type": "code",
   "execution_count": 1,
   "metadata": {},
   "outputs": [],
   "source": [
    "import math"
   ]
  },
  {
   "cell_type": "markdown",
   "metadata": {},
   "source": [
    "The following function returns the sin of the parameter x."
   ]
  },
  {
   "cell_type": "code",
   "execution_count": 2,
   "metadata": {},
   "outputs": [],
   "source": [
    "def get_sin(x):\n",
    "    return math.sin(x)"
   ]
  },
  {
   "cell_type": "markdown",
   "metadata": {},
   "source": [
    "The following function returns the cosine of the parameter x."
   ]
  },
  {
   "cell_type": "code",
   "execution_count": 3,
   "metadata": {},
   "outputs": [],
   "source": [
    "def get_cos(x):\n",
    "    return math.cos(x)"
   ]
  },
  {
   "cell_type": "markdown",
   "metadata": {},
   "source": [
    "Next, store the values of x, sin(x), and cos(x) from 0 to 2*pi in 1000 entries."
   ]
  },
  {
   "cell_type": "code",
   "execution_count": 4,
   "metadata": {},
   "outputs": [],
   "source": [
    "values = []\n",
    "for i in range(1000):\n",
    "    x = i * (2 * math.pi) / 1000\n",
    "    values.append((x, get_sin(x), get_cos(x)))"
   ]
  },
  {
   "cell_type": "markdown",
   "metadata": {},
   "source": [
    "Finally, print out the frist 10 entries as a table."
   ]
  },
  {
   "cell_type": "code",
   "execution_count": 16,
   "metadata": {},
   "outputs": [
    {
     "name": "stdout",
     "output_type": "stream",
     "text": [
      "                   x               sin(x)               cos(x)\n",
      "                 0.0                  0.0                  1.0\n",
      "0.006283185307179587 0.006283143965558951   0.9999802608561371\n",
      "0.012566370614359173 0.012566039883352607   0.9999210442038161\n",
      " 0.01884955592153876 0.018848439715408175    0.999822352380809\n",
      "0.025132741228718346  0.02513009544333748   0.9996841892832999\n",
      "0.031415926535897934  0.03141075907812829   0.9995065603657316\n",
      " 0.03769911184307752  0.03769018266993454   0.9992894726405892\n",
      "  0.0439822971502571   0.0439681183178649   0.9990329346781247\n",
      " 0.05026548245743669 0.050244318179769556   0.9987369566060175\n",
      " 0.05654866776461628  0.05651853448202453    0.998401550108975\n"
     ]
    }
   ],
   "source": [
    "print(\"{:>20} {:>20} {:>20}\".format(\"x\", \"sin(x)\", \"cos(x)\"))\n",
    "for i in range(10):\n",
    "    x, sin_x, cos_x = values[i]\n",
    "    print(\"{:>20} {:>20} {:>20}\".format(x, sin_x, cos_x))"
   ]
  }
 ],
 "metadata": {
  "kernelspec": {
   "display_name": "Python 3",
   "language": "python",
   "name": "python3"
  },
  "language_info": {
   "codemirror_mode": {
    "name": "ipython",
    "version": 3
   },
   "file_extension": ".py",
   "mimetype": "text/x-python",
   "name": "python",
   "nbconvert_exporter": "python",
   "pygments_lexer": "ipython3",
   "version": "3.10.12"
  },
  "orig_nbformat": 4
 },
 "nbformat": 4,
 "nbformat_minor": 2
}
